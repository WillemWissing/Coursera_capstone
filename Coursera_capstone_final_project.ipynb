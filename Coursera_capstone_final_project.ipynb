{
 "cells": [
  {
   "cell_type": "markdown",
   "metadata": {},
   "source": [
    "# Capstone Project - The Battle of the Neighborhoods\n",
    "### Applied Data Science Capstone by IBM/Coursera"
   ]
  },
  {
   "cell_type": "markdown",
   "metadata": {},
   "source": [
    "## Introduction\n",
    "\n",
    "Suppose you want to open a new gym, where should it be located? In this project we will go through the process of finding a location that is likely to be the optimal place to start.\n",
    "\n",
    "In this scenario we want to open a new gym in one of the 20 biggest cities in The Netherlands. Ideally we would want a neighbourhood that is not already saturated with existing gyms, but is similar to other neighbourhoods with succesful gyms.\n",
    "\n",
    "\n",
    "We will use publicly available data about the dutch cities and their neighbourhoods so we can employ various forms of data analytics and visualizations to help us in our search."
   ]
  },
  {
   "cell_type": "markdown",
   "metadata": {},
   "source": [
    "## Data\n",
    "\n",
    "The metrics we have decided to use to find out new location are:\n",
    "* Population density per existing gym in a city\n",
    "* Amount of pre-existing gyms per neighbourhood\n",
    "* Similarity of neighbourhood to other neighbourhoods with gyms\n",
    "\n",
    "Following data sources will be needed to extract/generate the required information:\n",
    "* Population statistics will be obtained from wikipedia\n",
    "* Name and location of neighbourhoods in each city will be obtained by a combination of Google Maps API geocoding and the Postal code information per city\n",
    "* Number of gyms and their location in every neighborhood will be obtained using the Foursquare API\n"
   ]
  },
  {
   "cell_type": "code",
   "execution_count": null,
   "metadata": {},
   "outputs": [],
   "source": []
  }
 ],
 "metadata": {
  "language_info": {
   "codemirror_mode": {
    "name": "ipython",
    "version": 3
   },
   "file_extension": ".py",
   "mimetype": "text/x-python",
   "name": "python",
   "nbconvert_exporter": "python",
   "pygments_lexer": "ipython3",
   "version": 3
  },
  "orig_nbformat": 2
 },
 "nbformat": 4,
 "nbformat_minor": 2
}